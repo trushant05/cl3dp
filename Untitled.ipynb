{
 "cells": [
  {
   "cell_type": "code",
   "execution_count": 1,
   "id": "c517e0cc-7222-48ce-912d-6eb60d9c2333",
   "metadata": {},
   "outputs": [
    {
     "name": "stdout",
     "output_type": "stream",
     "text": [
      "C:\\Users\\cjwattz\\Documents\\GitHub\\cl3dp\n",
      "C:\\Users\\cjwattz\\Documents\\GitHub\\cl3dp\\config\\camera.yaml\n",
      "C:\\Users\\cjwattz\\Documents\\GitHub\\cl3dp\\src\n",
      "C:\\Users\\cjwattz\\Documents\\GitHub\\cl3dp\\src\\..\\config\\camera.yaml\n"
     ]
    }
   ],
   "source": [
    "# Base imports\n",
    "import os\n",
    "import sys\n",
    "import yaml\n",
    "import numpy as np\n",
    "\n",
    "# Set root path\n",
    "root_path = os.path.abspath('.\\src')\n",
    "\n",
    "# Join root pathr\n",
    "sys.path.insert(0, root_path)\n",
    "\n",
    "from system.cprinter import CPrinter\n",
    "import cv2"
   ]
  },
  {
   "cell_type": "code",
   "execution_count": 2,
   "id": "af5a519a-7da5-46a8-93c4-7290c026d452",
   "metadata": {},
   "outputs": [
    {
     "name": "stdout",
     "output_type": "stream",
     "text": [
      "Staging initialized - Absolute mode\n",
      "ENABLE X Y Z\n",
      "\n",
      "%\n",
      "\n",
      "ENABLE B\n",
      "\n",
      "#\n",
      "\n",
      "METRIC\n",
      "\n",
      "%\n",
      "\n",
      "SECOND\n",
      "\n",
      "%\n",
      "\n",
      "RAMP RATE 100\n",
      "\n",
      "%\n",
      "\n",
      "WAIT MODE INPOS\n",
      "\n",
      "%\n",
      "\n",
      "ABSOLUTE\n",
      "\n",
      "%\n",
      "\n",
      "Aerotech initialized = Absolute mode\n",
      "~INITQUEUE\n",
      "\n",
      "!\n",
      "\n"
     ]
    }
   ],
   "source": [
    "cprint = CPrinter()"
   ]
  },
  {
   "cell_type": "code",
   "execution_count": 3,
   "id": "d05a8523-db75-43ea-95c9-8e15860abe4e",
   "metadata": {},
   "outputs": [],
   "source": [
    "\n",
    "#cprint.move_to_camera()"
   ]
  },
  {
   "cell_type": "code",
   "execution_count": 4,
   "id": "c1ff8c86-011c-40d0-9c4a-3552279a0340",
   "metadata": {},
   "outputs": [],
   "source": [
    "cprint.move_to_nozzle()"
   ]
  },
  {
   "cell_type": "code",
   "execution_count": 5,
   "id": "b7b65ce1-5db4-4459-b52a-3c93251ec742",
   "metadata": {},
   "outputs": [],
   "source": [
    "#cprint.set_pressure(20)"
   ]
  },
  {
   "cell_type": "code",
   "execution_count": 6,
   "id": "98d6c5f0-2590-431b-a05a-8944ac495c1d",
   "metadata": {
    "scrolled": true
   },
   "outputs": [
    {
     "name": "stdout",
     "output_type": "stream",
     "text": [
      "$AO[1].X = 0.000000\n",
      "\n",
      "$AO[1].X = 0.000000\n",
      "\n",
      "%\n",
      "\n"
     ]
    }
   ],
   "source": [
    "cprint.set_pressure(0)"
   ]
  },
  {
   "cell_type": "code",
   "execution_count": 7,
   "id": "57f954ac-3a33-4202-bb67-b2e23147de77",
   "metadata": {},
   "outputs": [],
   "source": [
    "cprint.nozzle_now = True"
   ]
  },
  {
   "cell_type": "code",
   "execution_count": 8,
   "id": "3f288d84-98d6-4fb2-b6e5-7e6ce98c1aad",
   "metadata": {},
   "outputs": [],
   "source": [
    "cprint.speed_print = 2"
   ]
  },
  {
   "cell_type": "code",
   "execution_count": 9,
   "id": "1ac1252d-6127-4f47-9dea-74e3acafc43a",
   "metadata": {},
   "outputs": [
    {
     "name": "stdout",
     "output_type": "stream",
     "text": [
      "GOTO inside Aerotech class\n",
      "LINEAR Z18.000000 F50.000000\n",
      "\n",
      "LINEAR Z18.000000 F50.000000\n",
      "\n",
      "%\n",
      "\n",
      "GOTO inside Aerotech class\n",
      "LINEAR X0.000000 Y15.000000 F50.000000\n",
      "\n",
      "LINEAR X0.000000 Y15.000000 F50.000000\n",
      "\n",
      "%\n",
      "\n",
      "GOTO inside Aerotech class\n",
      "LINEAR Z0.000000 F50.000000\n",
      "\n",
      "LINEAR Z0.000000 F50.000000\n",
      "\n",
      "%\n",
      "\n"
     ]
    }
   ],
   "source": [
    "start = [0,15]\n",
    "cprint.move_abs(z=18, f=cprint.speed_fast)\n",
    "cprint.move_abs(x=start[0], y=start[1], f=cprint.speed_fast)\n",
    "cprint.move_abs(z=0, f=cprint.speed_fast)"
   ]
  },
  {
   "cell_type": "code",
   "execution_count": 10,
   "id": "4ddfa20b-8787-47ad-88cb-c2512ec9ad38",
   "metadata": {},
   "outputs": [],
   "source": [
    "#cprint.staging.send_message(\"CW X-12 Y25 I3 J0 F.27\\n\")"
   ]
  },
  {
   "cell_type": "code",
   "execution_count": 11,
   "id": "b9e918b2-bda8-4279-9a6f-6e540f84d406",
   "metadata": {},
   "outputs": [],
   "source": [
    "#cprint.point_on_vector([0,0], [0,5], 4)"
   ]
  },
  {
   "cell_type": "code",
   "execution_count": null,
   "id": "b2a1fcd6-6861-4ccf-a23e-00ed1fefcf96",
   "metadata": {},
   "outputs": [],
   "source": []
  },
  {
   "cell_type": "code",
   "execution_count": 14,
   "id": "78c72acb-c701-4ea2-bcd8-727b385f87cb",
   "metadata": {},
   "outputs": [],
   "source": [
    "square = [[0,0], [-7,0], [-7, 7], [0, 7], [0, 0]]\n",
    "#cprint.get_print_points(square, step_size_mm=0.5)"
   ]
  },
  {
   "cell_type": "code",
   "execution_count": null,
   "id": "ffaec3d6-c09e-4f30-8eea-b5fcf95067d8",
   "metadata": {},
   "outputs": [],
   "source": [
    "#cprint.get_cam_points(points)"
   ]
  },
  {
   "cell_type": "code",
   "execution_count": null,
   "id": "d2984b0d-e0ba-49fa-a31f-9d221b7fc8e5",
   "metadata": {
    "scrolled": true
   },
   "outputs": [],
   "source": [
    "#cprint.print_and_capture(points, 50, \"Test\", camera_use = False)"
   ]
  },
  {
   "cell_type": "code",
   "execution_count": null,
   "id": "7af7fd4f-2402-4077-80b2-5e0193d28e04",
   "metadata": {},
   "outputs": [],
   "source": [
    "#cprint.set_pressure(0)"
   ]
  },
  {
   "cell_type": "code",
   "execution_count": 15,
   "id": "5354bfc9-534f-43b2-b29a-2443ae504298",
   "metadata": {},
   "outputs": [
    {
     "name": "stdout",
     "output_type": "stream",
     "text": [
      "$AO[1].X = 0.000000\n",
      "\n",
      "$AO[1].X = 0.000000\n",
      "\n",
      "%\n",
      "\n"
     ]
    },
    {
     "ename": "NameError",
     "evalue": "name 'speed_print' is not defined",
     "output_type": "error",
     "traceback": [
      "\u001b[1;31m---------------------------------------------------------------------------\u001b[0m",
      "\u001b[1;31mNameError\u001b[0m                                 Traceback (most recent call last)",
      "Cell \u001b[1;32mIn[15], line 2\u001b[0m\n\u001b[0;32m      1\u001b[0m relative_square \u001b[38;5;241m=\u001b[39m cprint\u001b[38;5;241m.\u001b[39mupdate_relative_points(square, start)\n\u001b[1;32m----> 2\u001b[0m cprint\u001b[38;5;241m.\u001b[39mprint_and_capture(relative_square, \u001b[38;5;241m0\u001b[39m, \u001b[38;5;124m\"\u001b[39m\u001b[38;5;124mTest\u001b[39m\u001b[38;5;124m\"\u001b[39m, camera_use \u001b[38;5;241m=\u001b[39m \u001b[38;5;28;01mFalse\u001b[39;00m)\n",
      "File \u001b[1;32m~\\Documents\\GitHub\\cl3dp\\src\\system\\cprinter.py:342\u001b[0m, in \u001b[0;36mCPrinter.print_and_capture\u001b[1;34m(self, coords, pressure, job, camera_use, discrete)\u001b[0m\n\u001b[0;32m    339\u001b[0m time\u001b[38;5;241m.\u001b[39msleep(\u001b[38;5;28mself\u001b[39m\u001b[38;5;241m.\u001b[39msleep_time)\n\u001b[0;32m    341\u001b[0m \u001b[38;5;28;01mif\u001b[39;00m discrete:\n\u001b[1;32m--> 342\u001b[0m     print_points \u001b[38;5;241m=\u001b[39m \u001b[38;5;28mself\u001b[39m\u001b[38;5;241m.\u001b[39mget_print_points(coords, step_size_mm\u001b[38;5;241m=\u001b[39mspeed_print)\n\u001b[0;32m    343\u001b[0m \u001b[38;5;28;01melse\u001b[39;00m:\n\u001b[0;32m    344\u001b[0m     print_points \u001b[38;5;241m=\u001b[39m coords\n",
      "\u001b[1;31mNameError\u001b[0m: name 'speed_print' is not defined"
     ]
    }
   ],
   "source": [
    "relative_square = cprint.update_relative_points(square, start)\n",
    "cprint.print_and_capture(relative_square, 0, \"Test\", camera_use = False)"
   ]
  },
  {
   "cell_type": "code",
   "execution_count": null,
   "id": "97ec9556-e4ac-4b06-95f9-1e48aedcf600",
   "metadata": {},
   "outputs": [],
   "source": [
    "#cprint.update_relative_points(points, [10,10])"
   ]
  },
  {
   "cell_type": "code",
   "execution_count": null,
   "id": "8c22e0c0-af46-4962-85f9-f437783816d9",
   "metadata": {},
   "outputs": [],
   "source": []
  }
 ],
 "metadata": {
  "kernelspec": {
   "display_name": "Python 3 (ipykernel)",
   "language": "python",
   "name": "python3"
  },
  "language_info": {
   "codemirror_mode": {
    "name": "ipython",
    "version": 3
   },
   "file_extension": ".py",
   "mimetype": "text/x-python",
   "name": "python",
   "nbconvert_exporter": "python",
   "pygments_lexer": "ipython3",
   "version": "3.11.9"
  }
 },
 "nbformat": 4,
 "nbformat_minor": 5
}
